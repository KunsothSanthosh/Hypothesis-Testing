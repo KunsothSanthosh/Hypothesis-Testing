{
 "cells": [
  {
   "attachments": {},
   "cell_type": "markdown",
   "id": "a4597455",
   "metadata": {},
   "source": [
    "# Q-4- check whether the defective %  varies by centre in      TeleCall uses 4 centers. Please analyze the data at 5% significance level and help the manager draw appropriate inferences\n"
   ]
  },
  {
   "cell_type": "code",
   "execution_count": null,
   "id": "369397ce",
   "metadata": {},
   "outputs": [],
   "source": [
    "import pandas as pd\n",
    "import scipy as sp\n",
    "from scipy.stats import chi2_contingency"
   ]
  },
  {
   "cell_type": "code",
   "execution_count": 2,
   "id": "01a3bc8f",
   "metadata": {},
   "outputs": [],
   "source": [
    "#import the data\n",
    "data = pd.read_csv(\"C:/Users/0004IW744/Desktop/Python/Assignments/3.Hypothesis Testing/Costomer+OrderForm.csv\")"
   ]
  },
  {
   "cell_type": "code",
   "execution_count": 3,
   "id": "211cdde5",
   "metadata": {},
   "outputs": [
    {
     "data": {
      "text/html": [
       "<div>\n",
       "<style scoped>\n",
       "    .dataframe tbody tr th:only-of-type {\n",
       "        vertical-align: middle;\n",
       "    }\n",
       "\n",
       "    .dataframe tbody tr th {\n",
       "        vertical-align: top;\n",
       "    }\n",
       "\n",
       "    .dataframe thead th {\n",
       "        text-align: right;\n",
       "    }\n",
       "</style>\n",
       "<table border=\"1\" class=\"dataframe\">\n",
       "  <thead>\n",
       "    <tr style=\"text-align: right;\">\n",
       "      <th></th>\n",
       "      <th>Phillippines</th>\n",
       "      <th>Indonesia</th>\n",
       "      <th>Malta</th>\n",
       "      <th>India</th>\n",
       "    </tr>\n",
       "  </thead>\n",
       "  <tbody>\n",
       "    <tr>\n",
       "      <th>count</th>\n",
       "      <td>300</td>\n",
       "      <td>300</td>\n",
       "      <td>300</td>\n",
       "      <td>300</td>\n",
       "    </tr>\n",
       "    <tr>\n",
       "      <th>unique</th>\n",
       "      <td>2</td>\n",
       "      <td>2</td>\n",
       "      <td>2</td>\n",
       "      <td>2</td>\n",
       "    </tr>\n",
       "    <tr>\n",
       "      <th>top</th>\n",
       "      <td>Error Free</td>\n",
       "      <td>Error Free</td>\n",
       "      <td>Error Free</td>\n",
       "      <td>Error Free</td>\n",
       "    </tr>\n",
       "    <tr>\n",
       "      <th>freq</th>\n",
       "      <td>271</td>\n",
       "      <td>267</td>\n",
       "      <td>269</td>\n",
       "      <td>280</td>\n",
       "    </tr>\n",
       "  </tbody>\n",
       "</table>\n",
       "</div>"
      ],
      "text/plain": [
       "       Phillippines   Indonesia       Malta       India\n",
       "count           300         300         300         300\n",
       "unique            2           2           2           2\n",
       "top      Error Free  Error Free  Error Free  Error Free\n",
       "freq            271         267         269         280"
      ]
     },
     "execution_count": 3,
     "metadata": {},
     "output_type": "execute_result"
    }
   ],
   "source": [
    "data.describe()"
   ]
  },
  {
   "cell_type": "markdown",
   "id": "4a7fef7b",
   "metadata": {},
   "source": [
    "# step-1\n",
    "Null hypothesis is defective % not varies by centre in TeleCall 4 centers"
   ]
  },
  {
   "cell_type": "markdown",
   "id": "0d67455d",
   "metadata": {},
   "source": [
    "# Step-2\n",
    "\n",
    "Alpha = 0.05"
   ]
  },
  {
   "cell_type": "markdown",
   "id": "973a093b",
   "metadata": {},
   "source": [
    "# Step- 3\n",
    "\n",
    "Comparing between Error Free,Defective i.e two independent qualitative variables.. So going with Chi Sqaure test\n",
    "So convert them to Contingency table first "
   ]
  },
  {
   "cell_type": "code",
   "execution_count": 9,
   "id": "7e56fbb5",
   "metadata": {},
   "outputs": [],
   "source": [
    "#Storing the count data of each column in variable c1 , c2, c3, c4\n",
    "\n",
    "c1 , c2, c3, c4 = data.Phillippines.value_counts() , data.Indonesia.value_counts(), data.Malta.value_counts(), data.India.value_counts()"
   ]
  },
  {
   "cell_type": "code",
   "execution_count": 22,
   "id": "e8b98cc3",
   "metadata": {},
   "outputs": [
    {
     "name": "stdout",
     "output_type": "stream",
     "text": [
      "Phillippines\n",
      " Error Free    271\n",
      "Defective      29\n",
      "Name: Phillippines, dtype: int64\n",
      "Indonesia\n",
      " Error Free    267\n",
      "Defective      33\n",
      "Name: Indonesia, dtype: int64\n",
      "Malta\n",
      " Error Free    269\n",
      "Defective      31\n",
      "Name: Malta, dtype: int64\n",
      "India\n",
      " Error Free    280\n",
      "Defective      20\n",
      "Name: India, dtype: int64\n"
     ]
    }
   ],
   "source": [
    "print('Phillippines\\n',c1)\n",
    "print('Indonesia\\n',c2)\n",
    "print('Malta\\n',c3)\n",
    "print('India\\n',c4)"
   ]
  },
  {
   "cell_type": "code",
   "execution_count": 25,
   "id": "8d51c40d",
   "metadata": {},
   "outputs": [
    {
     "data": {
      "text/plain": [
       "(3.858960685820355,\n",
       " 0.2771020991233135,\n",
       " 3,\n",
       " array([[271.75, 271.75, 271.75, 271.75],\n",
       "        [ 28.25,  28.25,  28.25,  28.25]]))"
      ]
     },
     "execution_count": 25,
     "metadata": {},
     "output_type": "execute_result"
    }
   ],
   "source": [
    "#Chi-square test,forming the contingency table by above results\n",
    "\n",
    "chi_stats = sp.stats.chi2_contingency([[271,267,269,280],[29,33,31,20]])\n",
    "chi_stats"
   ]
  },
  {
   "cell_type": "code",
   "execution_count": 27,
   "id": "d2c851ab",
   "metadata": {},
   "outputs": [
    {
     "data": {
      "text/plain": [
       "0.2771020991233135"
      ]
     },
     "execution_count": 27,
     "metadata": {},
     "output_type": "execute_result"
    }
   ],
   "source": [
    "#p value\n",
    "chi_stats[1]"
   ]
  },
  {
   "cell_type": "markdown",
   "id": "2c8497ce",
   "metadata": {},
   "source": [
    "# Hence, P-value is greater than the alpha value, P-High Null Hypothesis High"
   ]
  }
 ],
 "metadata": {
  "kernelspec": {
   "display_name": "Python 3",
   "language": "python",
   "name": "python3"
  },
  "language_info": {
   "codemirror_mode": {
    "name": "ipython",
    "version": 3
   },
   "file_extension": ".py",
   "mimetype": "text/x-python",
   "name": "python",
   "nbconvert_exporter": "python",
   "pygments_lexer": "ipython3",
   "version": "3.8.8"
  }
 },
 "nbformat": 4,
 "nbformat_minor": 5
}
