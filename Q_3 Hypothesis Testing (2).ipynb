{
 "cells": [
  {
   "cell_type": "markdown",
   "id": "107f6779",
   "metadata": {},
   "source": [
    "# Q_3 Sales of products in four different regions is tabulated for males and females.\n",
    "Find if male-female buyer rations are similar across regions"
   ]
  },
  {
   "cell_type": "code",
   "execution_count": null,
   "id": "efb99964",
   "metadata": {},
   "outputs": [],
   "source": [
    "import pandas as pd\n",
    "from scipy import stats\n",
    "from scipy.stats import chi2_contingency"
   ]
  },
  {
   "cell_type": "code",
   "execution_count": 2,
   "id": "37b2680a",
   "metadata": {},
   "outputs": [],
   "source": [
    "#import the data\n",
    "data = pd.read_csv(\"C:/Users/0004IW744/Desktop/Python/Assignments/3.Hypothesis Testing/BuyerRatio.csv\")"
   ]
  },
  {
   "cell_type": "code",
   "execution_count": 3,
   "id": "936fd47b",
   "metadata": {},
   "outputs": [
    {
     "data": {
      "text/html": [
       "<div>\n",
       "<style scoped>\n",
       "    .dataframe tbody tr th:only-of-type {\n",
       "        vertical-align: middle;\n",
       "    }\n",
       "\n",
       "    .dataframe tbody tr th {\n",
       "        vertical-align: top;\n",
       "    }\n",
       "\n",
       "    .dataframe thead th {\n",
       "        text-align: right;\n",
       "    }\n",
       "</style>\n",
       "<table border=\"1\" class=\"dataframe\">\n",
       "  <thead>\n",
       "    <tr style=\"text-align: right;\">\n",
       "      <th></th>\n",
       "      <th>Observed Values</th>\n",
       "      <th>East</th>\n",
       "      <th>West</th>\n",
       "      <th>North</th>\n",
       "      <th>South</th>\n",
       "    </tr>\n",
       "  </thead>\n",
       "  <tbody>\n",
       "    <tr>\n",
       "      <th>0</th>\n",
       "      <td>Males</td>\n",
       "      <td>50</td>\n",
       "      <td>142</td>\n",
       "      <td>131</td>\n",
       "      <td>70</td>\n",
       "    </tr>\n",
       "    <tr>\n",
       "      <th>1</th>\n",
       "      <td>Females</td>\n",
       "      <td>435</td>\n",
       "      <td>1523</td>\n",
       "      <td>1356</td>\n",
       "      <td>750</td>\n",
       "    </tr>\n",
       "  </tbody>\n",
       "</table>\n",
       "</div>"
      ],
      "text/plain": [
       "  Observed Values  East  West  North  South\n",
       "0           Males    50   142    131     70\n",
       "1         Females   435  1523   1356    750"
      ]
     },
     "execution_count": 3,
     "metadata": {},
     "output_type": "execute_result"
    }
   ],
   "source": [
    "data"
   ]
  },
  {
   "cell_type": "code",
   "execution_count": 5,
   "id": "7eb2b90a",
   "metadata": {},
   "outputs": [],
   "source": [
    "#Droping the unwanted columns\n",
    "data1 = data.drop(['Observed Values'],axis = 1)"
   ]
  },
  {
   "cell_type": "markdown",
   "id": "d64d92d9",
   "metadata": {},
   "source": [
    "# Step-1\n",
    "male-female buyer rations are similar across regions is a Null(H0) hypothesis"
   ]
  },
  {
   "cell_type": "markdown",
   "id": "79be24bd",
   "metadata": {},
   "source": [
    "# Step-2\n",
    "alpha = 0.05"
   ]
  },
  {
   "cell_type": "markdown",
   "id": "9a141a99",
   "metadata": {},
   "source": [
    "# Step-3\n",
    "independent Variables to considering the Chi Square test"
   ]
  },
  {
   "cell_type": "code",
   "execution_count": 6,
   "id": "1e894436",
   "metadata": {},
   "outputs": [],
   "source": [
    "value = chi2_contingency(data1)"
   ]
  },
  {
   "cell_type": "code",
   "execution_count": 7,
   "id": "0c20cb61",
   "metadata": {},
   "outputs": [
    {
     "data": {
      "text/plain": [
       "(1.595945538661058,\n",
       " 0.6603094907091882,\n",
       " 3,\n",
       " array([[  42.76531299,  146.81287862,  131.11756787,   72.30424052],\n",
       "        [ 442.23468701, 1518.18712138, 1355.88243213,  747.69575948]]))"
      ]
     },
     "execution_count": 7,
     "metadata": {},
     "output_type": "execute_result"
    }
   ],
   "source": [
    "#output(chi stat value, p-Value, dof(degrees of freedom), expected value)\n",
    "value"
   ]
  },
  {
   "cell_type": "markdown",
   "id": "d24c9c1d",
   "metadata": {},
   "source": [
    "# Hence, p-value is greater than the alpha value.p high null hypothesis fly"
   ]
  },
  {
   "cell_type": "code",
   "execution_count": null,
   "id": "8c083040",
   "metadata": {},
   "outputs": [],
   "source": []
  }
 ],
 "metadata": {
  "kernelspec": {
   "display_name": "Python 3",
   "language": "python",
   "name": "python3"
  },
  "language_info": {
   "codemirror_mode": {
    "name": "ipython",
    "version": 3
   },
   "file_extension": ".py",
   "mimetype": "text/x-python",
   "name": "python",
   "nbconvert_exporter": "python",
   "pygments_lexer": "ipython3",
   "version": "3.8.8"
  }
 },
 "nbformat": 4,
 "nbformat_minor": 5
}
