{
 "cells": [
  {
   "cell_type": "markdown",
   "id": "17c9a731",
   "metadata": {},
   "source": [
    "# Question-1:- Cutlets.mtw, Determine whether there is any significant difference in the diameter of the cutlet between 2 units "
   ]
  },
  {
   "cell_type": "code",
   "execution_count": 28,
   "id": "32511024",
   "metadata": {},
   "outputs": [],
   "source": [
    "import pandas as pd\n",
    "from scipy import stats"
   ]
  },
  {
   "cell_type": "code",
   "execution_count": 6,
   "id": "9c5b23b3",
   "metadata": {},
   "outputs": [],
   "source": [
    "data = pd.read_csv(\"C:/Users/0004IW744/Desktop/Python/Assignments/3.Hypothesis Testing/Cutlets.csv\")"
   ]
  },
  {
   "cell_type": "code",
   "execution_count": null,
   "id": "26c5ffaa",
   "metadata": {},
   "outputs": [],
   "source": [
    "data.dropna()  # Drop NA value if required"
   ]
  },
  {
   "cell_type": "code",
   "execution_count": null,
   "id": "62dd2711",
   "metadata": {},
   "outputs": [],
   "source": [
    "unit1=pd.Series(data.iloc[:,0])  #Changing to 1-d array holding any data in one column\n",
    "unit1"
   ]
  },
  {
   "cell_type": "code",
   "execution_count": 20,
   "id": "bc043828",
   "metadata": {},
   "outputs": [],
   "source": [
    "unit2=pd.Series(data.iloc[:,1])  #Changing to 1-d array holding any data in column\n",
    "unit2"
   ]
  },
  {
   "cell_type": "markdown",
   "id": "af0ec95f",
   "metadata": {},
   "source": [
    "# Step-1\n",
    "\n",
    "H0 = Assuming there is no change in diameter as Null hypothesis"
   ]
  },
  {
   "cell_type": "markdown",
   "id": "7de24648",
   "metadata": {},
   "source": [
    "# Step -2\n",
    "Number of samples less than 30 so t test"
   ]
  },
  {
   "cell_type": "markdown",
   "id": "b7439115",
   "metadata": {},
   "source": [
    "# Step-3\n",
    "\n",
    "Given alpha = 5% i.e 0.05"
   ]
  },
  {
   "cell_type": "markdown",
   "id": "8e63a730",
   "metadata": {},
   "source": [
    "# Step-4\n",
    "\n",
    "2- Sample 2-test as considering diameters are not equal "
   ]
  },
  {
   "cell_type": "code",
   "execution_count": 25,
   "id": "bbe9488f",
   "metadata": {},
   "outputs": [],
   "source": [
    "p_value = stats.ttest_ind(unit1,unit2)"
   ]
  },
  {
   "cell_type": "code",
   "execution_count": 26,
   "id": "4d285014",
   "metadata": {},
   "outputs": [
    {
     "data": {
      "text/plain": [
       "Ttest_indResult(statistic=0.7228688704678063, pvalue=0.4722394724599501)"
      ]
     },
     "execution_count": 26,
     "metadata": {},
     "output_type": "execute_result"
    }
   ],
   "source": [
    "p_value"
   ]
  },
  {
   "cell_type": "code",
   "execution_count": 27,
   "id": "2158285a",
   "metadata": {},
   "outputs": [
    {
     "data": {
      "text/plain": [
       "0.4722394724599501"
      ]
     },
     "execution_count": 27,
     "metadata": {},
     "output_type": "execute_result"
    }
   ],
   "source": [
    "#considering only p-value\n",
    "p_value[1]"
   ]
  },
  {
   "cell_type": "markdown",
   "id": "c654cde8",
   "metadata": {},
   "source": [
    "# Step-5\n",
    "\n",
    "# Hence, P_value is greater than the alpha value i.e 0.05, P high H0 fly"
   ]
  },
  {
   "cell_type": "markdown",
   "id": "13055a5e",
   "metadata": {},
   "source": [
    "# "
   ]
  }
 ],
 "metadata": {
  "kernelspec": {
   "display_name": "Python 3",
   "language": "python",
   "name": "python3"
  },
  "language_info": {
   "codemirror_mode": {
    "name": "ipython",
    "version": 3
   },
   "file_extension": ".py",
   "mimetype": "text/x-python",
   "name": "python",
   "nbconvert_exporter": "python",
   "pygments_lexer": "ipython3",
   "version": "3.8.8"
  }
 },
 "nbformat": 4,
 "nbformat_minor": 5
}
